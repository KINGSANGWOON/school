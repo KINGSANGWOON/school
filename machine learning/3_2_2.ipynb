{
  "nbformat": 4,
  "nbformat_minor": 0,
  "metadata": {
    "colab": {
      "name": "3-2-2.ipynb",
      "provenance": [],
      "authorship_tag": "ABX9TyMSAFrVkBpFYaFZDo/R5Ec8",
      "include_colab_link": true
    },
    "kernelspec": {
      "name": "python3",
      "display_name": "Python 3"
    },
    "language_info": {
      "name": "python"
    }
  },
  "cells": [
    {
      "cell_type": "markdown",
      "metadata": {
        "id": "view-in-github",
        "colab_type": "text"
      },
      "source": [
        "<a href=\"https://colab.research.google.com/github/KINGSANGWOON/school/blob/main/3_2_2.ipynb\" target=\"_parent\"><img src=\"https://colab.research.google.com/assets/colab-badge.svg\" alt=\"Open In Colab\"/></a>"
      ]
    },
    {
      "cell_type": "code",
      "execution_count": null,
      "metadata": {
        "id": "zjWphU7F_tpf"
      },
      "outputs": [],
      "source": [
        "import numpy as np\n",
        "import matplotlib.pyplot as plt"
      ]
    },
    {
      "cell_type": "code",
      "source": [
        "grape = np.array([[19,300,0],[20,500,0],[18,400,0],[25,500,1],[27,700,1],[28,600,1]])"
      ],
      "metadata": {
        "id": "PrH-nu28_36P"
      },
      "execution_count": null,
      "outputs": []
    },
    {
      "cell_type": "code",
      "source": [
        "X = grape[:,:2]\n",
        "y = grape[:,2]\n",
        "print(X)\n",
        "print(y)"
      ],
      "metadata": {
        "colab": {
          "base_uri": "https://localhost:8080/"
        },
        "id": "dd4_u1ewAVzi",
        "outputId": "10248efd-e52f-48d8-dc1b-60ad640ac7ab"
      },
      "execution_count": null,
      "outputs": [
        {
          "output_type": "stream",
          "name": "stdout",
          "text": [
            "[[ 19 300]\n",
            " [ 20 500]\n",
            " [ 18 400]\n",
            " [ 25 500]\n",
            " [ 27 700]\n",
            " [ 28 600]]\n",
            "[0 0 0 1 1 1]\n"
          ]
        }
      ]
    },
    {
      "cell_type": "code",
      "source": [
        "# 로지스틱 회귀 알고리즘으로 학습\n",
        "from sklearn.linear_model import LogisticRegression\n",
        "model = LogisticRegression() #LB모델 생성\n",
        "model.fit(X,y) #학습\n",
        "print(model.coef_)  # 가중치 출력 \n",
        "model.coef_\n",
        "print(model.intercept_)"
      ],
      "metadata": {
        "colab": {
          "base_uri": "https://localhost:8080/"
        },
        "id": "mr-sZocxAoko",
        "outputId": "0cc55ce2-cded-4f52-ff15-91b234664e61"
      },
      "execution_count": null,
      "outputs": [
        {
          "output_type": "stream",
          "name": "stdout",
          "text": [
            "[[0.71665314 0.04838074]]\n",
            "[-40.31573036]\n"
          ]
        }
      ]
    },
    {
      "cell_type": "code",
      "source": [
        "print(model.predict([[22,600]]))\n",
        "print(model.predict([[20,500]]))"
      ],
      "metadata": {
        "colab": {
          "base_uri": "https://localhost:8080/"
        },
        "id": "14orLI9SBiF-",
        "outputId": "9c81398e-42a9-4935-bd5c-63378e41fa78"
      },
      "execution_count": null,
      "outputs": [
        {
          "output_type": "stream",
          "name": "stdout",
          "text": [
            "[1]\n",
            "[0]\n"
          ]
        }
      ]
    },
    {
      "cell_type": "code",
      "source": [
        "print(model.score(X,y))"
      ],
      "metadata": {
        "colab": {
          "base_uri": "https://localhost:8080/"
        },
        "id": "rtsapzRKCq_X",
        "outputId": "0a411cc5-a99b-44d5-8f7c-036f29ea2303"
      },
      "execution_count": null,
      "outputs": [
        {
          "output_type": "stream",
          "name": "stdout",
          "text": [
            "1.0\n"
          ]
        }
      ]
    },
    {
      "cell_type": "code",
      "source": [
        "size= float(input('포도 한 알의 크기는(mm):'))\n",
        "weight = float(input('포도 한 송이의 무게는(g):'))\n",
        "result = model.predict([[size,weight]])\n",
        "if result == 1:\n",
        "  print('거봉')\n",
        "else:\n",
        "  print('일반 포도알')"
      ],
      "metadata": {
        "colab": {
          "base_uri": "https://localhost:8080/"
        },
        "id": "F5gHcPGDCwyD",
        "outputId": "e0ad5f4c-ba7d-466a-8348-1daaab146993"
      },
      "execution_count": null,
      "outputs": [
        {
          "output_type": "stream",
          "name": "stdout",
          "text": [
            "포도 한 알의 크기는(mm):123\n",
            "포도 한 송이의 무게는(g):123\n",
            "거봉\n"
          ]
        }
      ]
    },
    {
      "cell_type": "code",
      "source": [
        ""
      ],
      "metadata": {
        "id": "ZOTAgdoXDsZ2"
      },
      "execution_count": null,
      "outputs": []
    }
  ]
}
