{
  "nbformat": 4,
  "nbformat_minor": 0,
  "metadata": {
    "colab": {
      "name": "3-2-4.ipynb",
      "provenance": [],
      "authorship_tag": "ABX9TyPV0B0XxgnwzDrBQ0Cdchnx",
      "include_colab_link": true
    },
    "kernelspec": {
      "name": "python3",
      "display_name": "Python 3"
    },
    "language_info": {
      "name": "python"
    }
  },
  "cells": [
    {
      "cell_type": "markdown",
      "metadata": {
        "id": "view-in-github",
        "colab_type": "text"
      },
      "source": [
        "<a href=\"https://colab.research.google.com/github/KINGSANGWOON/school/blob/main/3_2_4.ipynb\" target=\"_parent\"><img src=\"https://colab.research.google.com/assets/colab-badge.svg\" alt=\"Open In Colab\"/></a>"
      ]
    },
    {
      "cell_type": "code",
      "execution_count": 3,
      "metadata": {
        "colab": {
          "base_uri": "https://localhost:8080/"
        },
        "id": "kGQYl_he2XaH",
        "outputId": "97c4548a-bb13-43dc-98ab-4c3f6f91e55a"
      },
      "outputs": [
        {
          "output_type": "stream",
          "name": "stdout",
          "text": [
            "Mounted at /content/drive/\n"
          ]
        }
      ],
      "source": [
        "from google.colab import drive\n",
        "drive.mount('/content/drive/')"
      ]
    },
    {
      "cell_type": "code",
      "source": [
        "import pandas as pd\n",
        "import numpy as np\n",
        "import matplotlib.pyplot as plt\n"
      ],
      "metadata": {
        "id": "K7lm8V8T2gps"
      },
      "execution_count": 4,
      "outputs": []
    },
    {
      "cell_type": "code",
      "source": [
        "df = pd.read_excel('/content/drive/MyDrive/data/phone.xlsx')"
      ],
      "metadata": {
        "id": "Sl_i5ii127B_"
      },
      "execution_count": 5,
      "outputs": []
    },
    {
      "cell_type": "code",
      "source": [
        "df  # DM 청소년 Q는 질문\n",
        "# 4매우 그렇다\n",
        "# 3그렇다\n",
        "# 2그렇지 않다\n",
        "# 1전혀 그렇지 않다\n",
        "\n",
        "\n",
        "\n"
      ],
      "metadata": {
        "colab": {
          "base_uri": "https://localhost:8080/",
          "height": 424
        },
        "id": "3OcGuFTA3BJR",
        "outputId": "672e570a-91bd-4537-f34c-4c89c632287e"
      },
      "execution_count": 6,
      "outputs": [
        {
          "output_type": "execute_result",
          "data": {
            "text/plain": [
              "      DM1  KK1  Q3B_1  Q3B_2  Q3B_3  Q3B_4  Q3B_5  Q3B_6  Q3B_7  Q3B_8  Q3B_9  \\\n",
              "0       2    2      2      3      3      3      2      2      2      3      3   \n",
              "1       2    3      2      2      1      2      2      3      2      2      2   \n",
              "2       2    3      1      1      1      1      1      1      1      2      2   \n",
              "3       2    3      2      3      3      2      2      1      2      2      2   \n",
              "4       2    3      1      1      1      1      1      1      1      4      1   \n",
              "...   ...  ...    ...    ...    ...    ...    ...    ...    ...    ...    ...   \n",
              "4881    2    2      3      4      4      4      3      4      2      1      1   \n",
              "4882    2    3      1      1      1      2      1      1      2      1      1   \n",
              "4883    2    3      2      2      1      2      2      2      2      2      2   \n",
              "4884    2    3      1      1      1      1      1      1      1      1      1   \n",
              "4885    2    3      3      3      3      2      2      2      1      1      1   \n",
              "\n",
              "      Q3B_10  \n",
              "0          2  \n",
              "1          2  \n",
              "2          2  \n",
              "3          2  \n",
              "4          1  \n",
              "...      ...  \n",
              "4881       2  \n",
              "4882       1  \n",
              "4883       2  \n",
              "4884       1  \n",
              "4885       1  \n",
              "\n",
              "[4886 rows x 12 columns]"
            ],
            "text/html": [
              "\n",
              "  <div id=\"df-449a7c00-e453-4994-bdf1-11849a0ea1c9\">\n",
              "    <div class=\"colab-df-container\">\n",
              "      <div>\n",
              "<style scoped>\n",
              "    .dataframe tbody tr th:only-of-type {\n",
              "        vertical-align: middle;\n",
              "    }\n",
              "\n",
              "    .dataframe tbody tr th {\n",
              "        vertical-align: top;\n",
              "    }\n",
              "\n",
              "    .dataframe thead th {\n",
              "        text-align: right;\n",
              "    }\n",
              "</style>\n",
              "<table border=\"1\" class=\"dataframe\">\n",
              "  <thead>\n",
              "    <tr style=\"text-align: right;\">\n",
              "      <th></th>\n",
              "      <th>DM1</th>\n",
              "      <th>KK1</th>\n",
              "      <th>Q3B_1</th>\n",
              "      <th>Q3B_2</th>\n",
              "      <th>Q3B_3</th>\n",
              "      <th>Q3B_4</th>\n",
              "      <th>Q3B_5</th>\n",
              "      <th>Q3B_6</th>\n",
              "      <th>Q3B_7</th>\n",
              "      <th>Q3B_8</th>\n",
              "      <th>Q3B_9</th>\n",
              "      <th>Q3B_10</th>\n",
              "    </tr>\n",
              "  </thead>\n",
              "  <tbody>\n",
              "    <tr>\n",
              "      <th>0</th>\n",
              "      <td>2</td>\n",
              "      <td>2</td>\n",
              "      <td>2</td>\n",
              "      <td>3</td>\n",
              "      <td>3</td>\n",
              "      <td>3</td>\n",
              "      <td>2</td>\n",
              "      <td>2</td>\n",
              "      <td>2</td>\n",
              "      <td>3</td>\n",
              "      <td>3</td>\n",
              "      <td>2</td>\n",
              "    </tr>\n",
              "    <tr>\n",
              "      <th>1</th>\n",
              "      <td>2</td>\n",
              "      <td>3</td>\n",
              "      <td>2</td>\n",
              "      <td>2</td>\n",
              "      <td>1</td>\n",
              "      <td>2</td>\n",
              "      <td>2</td>\n",
              "      <td>3</td>\n",
              "      <td>2</td>\n",
              "      <td>2</td>\n",
              "      <td>2</td>\n",
              "      <td>2</td>\n",
              "    </tr>\n",
              "    <tr>\n",
              "      <th>2</th>\n",
              "      <td>2</td>\n",
              "      <td>3</td>\n",
              "      <td>1</td>\n",
              "      <td>1</td>\n",
              "      <td>1</td>\n",
              "      <td>1</td>\n",
              "      <td>1</td>\n",
              "      <td>1</td>\n",
              "      <td>1</td>\n",
              "      <td>2</td>\n",
              "      <td>2</td>\n",
              "      <td>2</td>\n",
              "    </tr>\n",
              "    <tr>\n",
              "      <th>3</th>\n",
              "      <td>2</td>\n",
              "      <td>3</td>\n",
              "      <td>2</td>\n",
              "      <td>3</td>\n",
              "      <td>3</td>\n",
              "      <td>2</td>\n",
              "      <td>2</td>\n",
              "      <td>1</td>\n",
              "      <td>2</td>\n",
              "      <td>2</td>\n",
              "      <td>2</td>\n",
              "      <td>2</td>\n",
              "    </tr>\n",
              "    <tr>\n",
              "      <th>4</th>\n",
              "      <td>2</td>\n",
              "      <td>3</td>\n",
              "      <td>1</td>\n",
              "      <td>1</td>\n",
              "      <td>1</td>\n",
              "      <td>1</td>\n",
              "      <td>1</td>\n",
              "      <td>1</td>\n",
              "      <td>1</td>\n",
              "      <td>4</td>\n",
              "      <td>1</td>\n",
              "      <td>1</td>\n",
              "    </tr>\n",
              "    <tr>\n",
              "      <th>...</th>\n",
              "      <td>...</td>\n",
              "      <td>...</td>\n",
              "      <td>...</td>\n",
              "      <td>...</td>\n",
              "      <td>...</td>\n",
              "      <td>...</td>\n",
              "      <td>...</td>\n",
              "      <td>...</td>\n",
              "      <td>...</td>\n",
              "      <td>...</td>\n",
              "      <td>...</td>\n",
              "      <td>...</td>\n",
              "    </tr>\n",
              "    <tr>\n",
              "      <th>4881</th>\n",
              "      <td>2</td>\n",
              "      <td>2</td>\n",
              "      <td>3</td>\n",
              "      <td>4</td>\n",
              "      <td>4</td>\n",
              "      <td>4</td>\n",
              "      <td>3</td>\n",
              "      <td>4</td>\n",
              "      <td>2</td>\n",
              "      <td>1</td>\n",
              "      <td>1</td>\n",
              "      <td>2</td>\n",
              "    </tr>\n",
              "    <tr>\n",
              "      <th>4882</th>\n",
              "      <td>2</td>\n",
              "      <td>3</td>\n",
              "      <td>1</td>\n",
              "      <td>1</td>\n",
              "      <td>1</td>\n",
              "      <td>2</td>\n",
              "      <td>1</td>\n",
              "      <td>1</td>\n",
              "      <td>2</td>\n",
              "      <td>1</td>\n",
              "      <td>1</td>\n",
              "      <td>1</td>\n",
              "    </tr>\n",
              "    <tr>\n",
              "      <th>4883</th>\n",
              "      <td>2</td>\n",
              "      <td>3</td>\n",
              "      <td>2</td>\n",
              "      <td>2</td>\n",
              "      <td>1</td>\n",
              "      <td>2</td>\n",
              "      <td>2</td>\n",
              "      <td>2</td>\n",
              "      <td>2</td>\n",
              "      <td>2</td>\n",
              "      <td>2</td>\n",
              "      <td>2</td>\n",
              "    </tr>\n",
              "    <tr>\n",
              "      <th>4884</th>\n",
              "      <td>2</td>\n",
              "      <td>3</td>\n",
              "      <td>1</td>\n",
              "      <td>1</td>\n",
              "      <td>1</td>\n",
              "      <td>1</td>\n",
              "      <td>1</td>\n",
              "      <td>1</td>\n",
              "      <td>1</td>\n",
              "      <td>1</td>\n",
              "      <td>1</td>\n",
              "      <td>1</td>\n",
              "    </tr>\n",
              "    <tr>\n",
              "      <th>4885</th>\n",
              "      <td>2</td>\n",
              "      <td>3</td>\n",
              "      <td>3</td>\n",
              "      <td>3</td>\n",
              "      <td>3</td>\n",
              "      <td>2</td>\n",
              "      <td>2</td>\n",
              "      <td>2</td>\n",
              "      <td>1</td>\n",
              "      <td>1</td>\n",
              "      <td>1</td>\n",
              "      <td>1</td>\n",
              "    </tr>\n",
              "  </tbody>\n",
              "</table>\n",
              "<p>4886 rows × 12 columns</p>\n",
              "</div>\n",
              "      <button class=\"colab-df-convert\" onclick=\"convertToInteractive('df-449a7c00-e453-4994-bdf1-11849a0ea1c9')\"\n",
              "              title=\"Convert this dataframe to an interactive table.\"\n",
              "              style=\"display:none;\">\n",
              "        \n",
              "  <svg xmlns=\"http://www.w3.org/2000/svg\" height=\"24px\"viewBox=\"0 0 24 24\"\n",
              "       width=\"24px\">\n",
              "    <path d=\"M0 0h24v24H0V0z\" fill=\"none\"/>\n",
              "    <path d=\"M18.56 5.44l.94 2.06.94-2.06 2.06-.94-2.06-.94-.94-2.06-.94 2.06-2.06.94zm-11 1L8.5 8.5l.94-2.06 2.06-.94-2.06-.94L8.5 2.5l-.94 2.06-2.06.94zm10 10l.94 2.06.94-2.06 2.06-.94-2.06-.94-.94-2.06-.94 2.06-2.06.94z\"/><path d=\"M17.41 7.96l-1.37-1.37c-.4-.4-.92-.59-1.43-.59-.52 0-1.04.2-1.43.59L10.3 9.45l-7.72 7.72c-.78.78-.78 2.05 0 2.83L4 21.41c.39.39.9.59 1.41.59.51 0 1.02-.2 1.41-.59l7.78-7.78 2.81-2.81c.8-.78.8-2.07 0-2.86zM5.41 20L4 18.59l7.72-7.72 1.47 1.35L5.41 20z\"/>\n",
              "  </svg>\n",
              "      </button>\n",
              "      \n",
              "  <style>\n",
              "    .colab-df-container {\n",
              "      display:flex;\n",
              "      flex-wrap:wrap;\n",
              "      gap: 12px;\n",
              "    }\n",
              "\n",
              "    .colab-df-convert {\n",
              "      background-color: #E8F0FE;\n",
              "      border: none;\n",
              "      border-radius: 50%;\n",
              "      cursor: pointer;\n",
              "      display: none;\n",
              "      fill: #1967D2;\n",
              "      height: 32px;\n",
              "      padding: 0 0 0 0;\n",
              "      width: 32px;\n",
              "    }\n",
              "\n",
              "    .colab-df-convert:hover {\n",
              "      background-color: #E2EBFA;\n",
              "      box-shadow: 0px 1px 2px rgba(60, 64, 67, 0.3), 0px 1px 3px 1px rgba(60, 64, 67, 0.15);\n",
              "      fill: #174EA6;\n",
              "    }\n",
              "\n",
              "    [theme=dark] .colab-df-convert {\n",
              "      background-color: #3B4455;\n",
              "      fill: #D2E3FC;\n",
              "    }\n",
              "\n",
              "    [theme=dark] .colab-df-convert:hover {\n",
              "      background-color: #434B5C;\n",
              "      box-shadow: 0px 1px 3px 1px rgba(0, 0, 0, 0.15);\n",
              "      filter: drop-shadow(0px 1px 2px rgba(0, 0, 0, 0.3));\n",
              "      fill: #FFFFFF;\n",
              "    }\n",
              "  </style>\n",
              "\n",
              "      <script>\n",
              "        const buttonEl =\n",
              "          document.querySelector('#df-449a7c00-e453-4994-bdf1-11849a0ea1c9 button.colab-df-convert');\n",
              "        buttonEl.style.display =\n",
              "          google.colab.kernel.accessAllowed ? 'block' : 'none';\n",
              "\n",
              "        async function convertToInteractive(key) {\n",
              "          const element = document.querySelector('#df-449a7c00-e453-4994-bdf1-11849a0ea1c9');\n",
              "          const dataTable =\n",
              "            await google.colab.kernel.invokeFunction('convertToInteractive',\n",
              "                                                     [key], {});\n",
              "          if (!dataTable) return;\n",
              "\n",
              "          const docLinkHtml = 'Like what you see? Visit the ' +\n",
              "            '<a target=\"_blank\" href=https://colab.research.google.com/notebooks/data_table.ipynb>data table notebook</a>'\n",
              "            + ' to learn more about interactive tables.';\n",
              "          element.innerHTML = '';\n",
              "          dataTable['output_type'] = 'display_data';\n",
              "          await google.colab.output.renderOutput(dataTable, element);\n",
              "          const docLink = document.createElement('div');\n",
              "          docLink.innerHTML = docLinkHtml;\n",
              "          element.appendChild(docLink);\n",
              "        }\n",
              "      </script>\n",
              "    </div>\n",
              "  </div>\n",
              "  "
            ]
          },
          "metadata": {},
          "execution_count": 6
        }
      ]
    },
    {
      "cell_type": "code",
      "source": [
        "df.corr()"
      ],
      "metadata": {
        "colab": {
          "base_uri": "https://localhost:8080/",
          "height": 490
        },
        "id": "ji0FGLv16Cgv",
        "outputId": "2d29100f-2b85-4290-a3d2-0d8895b2b257"
      },
      "execution_count": 16,
      "outputs": [
        {
          "output_type": "execute_result",
          "data": {
            "text/plain": [
              "        DM1       KK1     Q3B_1     Q3B_2     Q3B_3     Q3B_4     Q3B_5  \\\n",
              "DM1     NaN       NaN       NaN       NaN       NaN       NaN       NaN   \n",
              "KK1     NaN  1.000000 -0.574377 -0.544126 -0.536256 -0.625001 -0.637715   \n",
              "Q3B_1   NaN -0.574377  1.000000  0.605057  0.517316  0.475662  0.455190   \n",
              "Q3B_2   NaN -0.544126  0.605057  1.000000  0.590110  0.466774  0.441250   \n",
              "Q3B_3   NaN -0.536256  0.517316  0.590110  1.000000  0.513086  0.375348   \n",
              "Q3B_4   NaN -0.625001  0.475662  0.466774  0.513086  1.000000  0.537484   \n",
              "Q3B_5   NaN -0.637715  0.455190  0.441250  0.375348  0.537484  1.000000   \n",
              "Q3B_6   NaN -0.618151  0.433482  0.419316  0.407755  0.485763  0.555688   \n",
              "Q3B_7   NaN -0.522324  0.297993  0.245289  0.232568  0.291760  0.321175   \n",
              "Q3B_8   NaN -0.526669  0.304979  0.275781  0.279105  0.316498  0.334863   \n",
              "Q3B_9   NaN -0.544108  0.323367  0.301013  0.264433  0.339204  0.379967   \n",
              "Q3B_10  NaN -0.569407  0.380149  0.369344  0.346312  0.424796  0.420376   \n",
              "\n",
              "           Q3B_6     Q3B_7     Q3B_8     Q3B_9    Q3B_10  \n",
              "DM1          NaN       NaN       NaN       NaN       NaN  \n",
              "KK1    -0.618151 -0.522324 -0.526669 -0.544108 -0.569407  \n",
              "Q3B_1   0.433482  0.297993  0.304979  0.323367  0.380149  \n",
              "Q3B_2   0.419316  0.245289  0.275781  0.301013  0.369344  \n",
              "Q3B_3   0.407755  0.232568  0.279105  0.264433  0.346312  \n",
              "Q3B_4   0.485763  0.291760  0.316498  0.339204  0.424796  \n",
              "Q3B_5   0.555688  0.321175  0.334863  0.379967  0.420376  \n",
              "Q3B_6   1.000000  0.340472  0.332089  0.348208  0.425203  \n",
              "Q3B_7   0.340472  1.000000  0.342179  0.410175  0.396809  \n",
              "Q3B_8   0.332089  0.342179  1.000000  0.435368  0.379319  \n",
              "Q3B_9   0.348208  0.410175  0.435368  1.000000  0.470892  \n",
              "Q3B_10  0.425203  0.396809  0.379319  0.470892  1.000000  "
            ],
            "text/html": [
              "\n",
              "  <div id=\"df-3e7a8fbd-ca75-4377-ad02-f06ba3402eae\">\n",
              "    <div class=\"colab-df-container\">\n",
              "      <div>\n",
              "<style scoped>\n",
              "    .dataframe tbody tr th:only-of-type {\n",
              "        vertical-align: middle;\n",
              "    }\n",
              "\n",
              "    .dataframe tbody tr th {\n",
              "        vertical-align: top;\n",
              "    }\n",
              "\n",
              "    .dataframe thead th {\n",
              "        text-align: right;\n",
              "    }\n",
              "</style>\n",
              "<table border=\"1\" class=\"dataframe\">\n",
              "  <thead>\n",
              "    <tr style=\"text-align: right;\">\n",
              "      <th></th>\n",
              "      <th>DM1</th>\n",
              "      <th>KK1</th>\n",
              "      <th>Q3B_1</th>\n",
              "      <th>Q3B_2</th>\n",
              "      <th>Q3B_3</th>\n",
              "      <th>Q3B_4</th>\n",
              "      <th>Q3B_5</th>\n",
              "      <th>Q3B_6</th>\n",
              "      <th>Q3B_7</th>\n",
              "      <th>Q3B_8</th>\n",
              "      <th>Q3B_9</th>\n",
              "      <th>Q3B_10</th>\n",
              "    </tr>\n",
              "  </thead>\n",
              "  <tbody>\n",
              "    <tr>\n",
              "      <th>DM1</th>\n",
              "      <td>NaN</td>\n",
              "      <td>NaN</td>\n",
              "      <td>NaN</td>\n",
              "      <td>NaN</td>\n",
              "      <td>NaN</td>\n",
              "      <td>NaN</td>\n",
              "      <td>NaN</td>\n",
              "      <td>NaN</td>\n",
              "      <td>NaN</td>\n",
              "      <td>NaN</td>\n",
              "      <td>NaN</td>\n",
              "      <td>NaN</td>\n",
              "    </tr>\n",
              "    <tr>\n",
              "      <th>KK1</th>\n",
              "      <td>NaN</td>\n",
              "      <td>1.000000</td>\n",
              "      <td>-0.574377</td>\n",
              "      <td>-0.544126</td>\n",
              "      <td>-0.536256</td>\n",
              "      <td>-0.625001</td>\n",
              "      <td>-0.637715</td>\n",
              "      <td>-0.618151</td>\n",
              "      <td>-0.522324</td>\n",
              "      <td>-0.526669</td>\n",
              "      <td>-0.544108</td>\n",
              "      <td>-0.569407</td>\n",
              "    </tr>\n",
              "    <tr>\n",
              "      <th>Q3B_1</th>\n",
              "      <td>NaN</td>\n",
              "      <td>-0.574377</td>\n",
              "      <td>1.000000</td>\n",
              "      <td>0.605057</td>\n",
              "      <td>0.517316</td>\n",
              "      <td>0.475662</td>\n",
              "      <td>0.455190</td>\n",
              "      <td>0.433482</td>\n",
              "      <td>0.297993</td>\n",
              "      <td>0.304979</td>\n",
              "      <td>0.323367</td>\n",
              "      <td>0.380149</td>\n",
              "    </tr>\n",
              "    <tr>\n",
              "      <th>Q3B_2</th>\n",
              "      <td>NaN</td>\n",
              "      <td>-0.544126</td>\n",
              "      <td>0.605057</td>\n",
              "      <td>1.000000</td>\n",
              "      <td>0.590110</td>\n",
              "      <td>0.466774</td>\n",
              "      <td>0.441250</td>\n",
              "      <td>0.419316</td>\n",
              "      <td>0.245289</td>\n",
              "      <td>0.275781</td>\n",
              "      <td>0.301013</td>\n",
              "      <td>0.369344</td>\n",
              "    </tr>\n",
              "    <tr>\n",
              "      <th>Q3B_3</th>\n",
              "      <td>NaN</td>\n",
              "      <td>-0.536256</td>\n",
              "      <td>0.517316</td>\n",
              "      <td>0.590110</td>\n",
              "      <td>1.000000</td>\n",
              "      <td>0.513086</td>\n",
              "      <td>0.375348</td>\n",
              "      <td>0.407755</td>\n",
              "      <td>0.232568</td>\n",
              "      <td>0.279105</td>\n",
              "      <td>0.264433</td>\n",
              "      <td>0.346312</td>\n",
              "    </tr>\n",
              "    <tr>\n",
              "      <th>Q3B_4</th>\n",
              "      <td>NaN</td>\n",
              "      <td>-0.625001</td>\n",
              "      <td>0.475662</td>\n",
              "      <td>0.466774</td>\n",
              "      <td>0.513086</td>\n",
              "      <td>1.000000</td>\n",
              "      <td>0.537484</td>\n",
              "      <td>0.485763</td>\n",
              "      <td>0.291760</td>\n",
              "      <td>0.316498</td>\n",
              "      <td>0.339204</td>\n",
              "      <td>0.424796</td>\n",
              "    </tr>\n",
              "    <tr>\n",
              "      <th>Q3B_5</th>\n",
              "      <td>NaN</td>\n",
              "      <td>-0.637715</td>\n",
              "      <td>0.455190</td>\n",
              "      <td>0.441250</td>\n",
              "      <td>0.375348</td>\n",
              "      <td>0.537484</td>\n",
              "      <td>1.000000</td>\n",
              "      <td>0.555688</td>\n",
              "      <td>0.321175</td>\n",
              "      <td>0.334863</td>\n",
              "      <td>0.379967</td>\n",
              "      <td>0.420376</td>\n",
              "    </tr>\n",
              "    <tr>\n",
              "      <th>Q3B_6</th>\n",
              "      <td>NaN</td>\n",
              "      <td>-0.618151</td>\n",
              "      <td>0.433482</td>\n",
              "      <td>0.419316</td>\n",
              "      <td>0.407755</td>\n",
              "      <td>0.485763</td>\n",
              "      <td>0.555688</td>\n",
              "      <td>1.000000</td>\n",
              "      <td>0.340472</td>\n",
              "      <td>0.332089</td>\n",
              "      <td>0.348208</td>\n",
              "      <td>0.425203</td>\n",
              "    </tr>\n",
              "    <tr>\n",
              "      <th>Q3B_7</th>\n",
              "      <td>NaN</td>\n",
              "      <td>-0.522324</td>\n",
              "      <td>0.297993</td>\n",
              "      <td>0.245289</td>\n",
              "      <td>0.232568</td>\n",
              "      <td>0.291760</td>\n",
              "      <td>0.321175</td>\n",
              "      <td>0.340472</td>\n",
              "      <td>1.000000</td>\n",
              "      <td>0.342179</td>\n",
              "      <td>0.410175</td>\n",
              "      <td>0.396809</td>\n",
              "    </tr>\n",
              "    <tr>\n",
              "      <th>Q3B_8</th>\n",
              "      <td>NaN</td>\n",
              "      <td>-0.526669</td>\n",
              "      <td>0.304979</td>\n",
              "      <td>0.275781</td>\n",
              "      <td>0.279105</td>\n",
              "      <td>0.316498</td>\n",
              "      <td>0.334863</td>\n",
              "      <td>0.332089</td>\n",
              "      <td>0.342179</td>\n",
              "      <td>1.000000</td>\n",
              "      <td>0.435368</td>\n",
              "      <td>0.379319</td>\n",
              "    </tr>\n",
              "    <tr>\n",
              "      <th>Q3B_9</th>\n",
              "      <td>NaN</td>\n",
              "      <td>-0.544108</td>\n",
              "      <td>0.323367</td>\n",
              "      <td>0.301013</td>\n",
              "      <td>0.264433</td>\n",
              "      <td>0.339204</td>\n",
              "      <td>0.379967</td>\n",
              "      <td>0.348208</td>\n",
              "      <td>0.410175</td>\n",
              "      <td>0.435368</td>\n",
              "      <td>1.000000</td>\n",
              "      <td>0.470892</td>\n",
              "    </tr>\n",
              "    <tr>\n",
              "      <th>Q3B_10</th>\n",
              "      <td>NaN</td>\n",
              "      <td>-0.569407</td>\n",
              "      <td>0.380149</td>\n",
              "      <td>0.369344</td>\n",
              "      <td>0.346312</td>\n",
              "      <td>0.424796</td>\n",
              "      <td>0.420376</td>\n",
              "      <td>0.425203</td>\n",
              "      <td>0.396809</td>\n",
              "      <td>0.379319</td>\n",
              "      <td>0.470892</td>\n",
              "      <td>1.000000</td>\n",
              "    </tr>\n",
              "  </tbody>\n",
              "</table>\n",
              "</div>\n",
              "      <button class=\"colab-df-convert\" onclick=\"convertToInteractive('df-3e7a8fbd-ca75-4377-ad02-f06ba3402eae')\"\n",
              "              title=\"Convert this dataframe to an interactive table.\"\n",
              "              style=\"display:none;\">\n",
              "        \n",
              "  <svg xmlns=\"http://www.w3.org/2000/svg\" height=\"24px\"viewBox=\"0 0 24 24\"\n",
              "       width=\"24px\">\n",
              "    <path d=\"M0 0h24v24H0V0z\" fill=\"none\"/>\n",
              "    <path d=\"M18.56 5.44l.94 2.06.94-2.06 2.06-.94-2.06-.94-.94-2.06-.94 2.06-2.06.94zm-11 1L8.5 8.5l.94-2.06 2.06-.94-2.06-.94L8.5 2.5l-.94 2.06-2.06.94zm10 10l.94 2.06.94-2.06 2.06-.94-2.06-.94-.94-2.06-.94 2.06-2.06.94z\"/><path d=\"M17.41 7.96l-1.37-1.37c-.4-.4-.92-.59-1.43-.59-.52 0-1.04.2-1.43.59L10.3 9.45l-7.72 7.72c-.78.78-.78 2.05 0 2.83L4 21.41c.39.39.9.59 1.41.59.51 0 1.02-.2 1.41-.59l7.78-7.78 2.81-2.81c.8-.78.8-2.07 0-2.86zM5.41 20L4 18.59l7.72-7.72 1.47 1.35L5.41 20z\"/>\n",
              "  </svg>\n",
              "      </button>\n",
              "      \n",
              "  <style>\n",
              "    .colab-df-container {\n",
              "      display:flex;\n",
              "      flex-wrap:wrap;\n",
              "      gap: 12px;\n",
              "    }\n",
              "\n",
              "    .colab-df-convert {\n",
              "      background-color: #E8F0FE;\n",
              "      border: none;\n",
              "      border-radius: 50%;\n",
              "      cursor: pointer;\n",
              "      display: none;\n",
              "      fill: #1967D2;\n",
              "      height: 32px;\n",
              "      padding: 0 0 0 0;\n",
              "      width: 32px;\n",
              "    }\n",
              "\n",
              "    .colab-df-convert:hover {\n",
              "      background-color: #E2EBFA;\n",
              "      box-shadow: 0px 1px 2px rgba(60, 64, 67, 0.3), 0px 1px 3px 1px rgba(60, 64, 67, 0.15);\n",
              "      fill: #174EA6;\n",
              "    }\n",
              "\n",
              "    [theme=dark] .colab-df-convert {\n",
              "      background-color: #3B4455;\n",
              "      fill: #D2E3FC;\n",
              "    }\n",
              "\n",
              "    [theme=dark] .colab-df-convert:hover {\n",
              "      background-color: #434B5C;\n",
              "      box-shadow: 0px 1px 3px 1px rgba(0, 0, 0, 0.15);\n",
              "      filter: drop-shadow(0px 1px 2px rgba(0, 0, 0, 0.3));\n",
              "      fill: #FFFFFF;\n",
              "    }\n",
              "  </style>\n",
              "\n",
              "      <script>\n",
              "        const buttonEl =\n",
              "          document.querySelector('#df-3e7a8fbd-ca75-4377-ad02-f06ba3402eae button.colab-df-convert');\n",
              "        buttonEl.style.display =\n",
              "          google.colab.kernel.accessAllowed ? 'block' : 'none';\n",
              "\n",
              "        async function convertToInteractive(key) {\n",
              "          const element = document.querySelector('#df-3e7a8fbd-ca75-4377-ad02-f06ba3402eae');\n",
              "          const dataTable =\n",
              "            await google.colab.kernel.invokeFunction('convertToInteractive',\n",
              "                                                     [key], {});\n",
              "          if (!dataTable) return;\n",
              "\n",
              "          const docLinkHtml = 'Like what you see? Visit the ' +\n",
              "            '<a target=\"_blank\" href=https://colab.research.google.com/notebooks/data_table.ipynb>data table notebook</a>'\n",
              "            + ' to learn more about interactive tables.';\n",
              "          element.innerHTML = '';\n",
              "          dataTable['output_type'] = 'display_data';\n",
              "          await google.colab.output.renderOutput(dataTable, element);\n",
              "          const docLink = document.createElement('div');\n",
              "          docLink.innerHTML = docLinkHtml;\n",
              "          element.appendChild(docLink);\n",
              "        }\n",
              "      </script>\n",
              "    </div>\n",
              "  </div>\n",
              "  "
            ]
          },
          "metadata": {},
          "execution_count": 16
        }
      ]
    },
    {
      "cell_type": "code",
      "source": [
        "df.corr() # 상관관계\n",
        "import seaborn as sns\n",
        "\n",
        "sns.set_style('darkgrid')\n",
        "plt.figure(figsize=(10,8))\n",
        "sns.heatmap(df.corr(),annot=True) \n",
        "\n"
      ],
      "metadata": {
        "colab": {
          "base_uri": "https://localhost:8080/",
          "height": 506
        },
        "id": "k89SXU_P3L-H",
        "outputId": "2bd9512f-c95c-4481-eb73-f2a7571ff5be"
      },
      "execution_count": 14,
      "outputs": [
        {
          "output_type": "execute_result",
          "data": {
            "text/plain": [
              "<matplotlib.axes._subplots.AxesSubplot at 0x7f007156fe50>"
            ]
          },
          "metadata": {},
          "execution_count": 14
        },
        {
          "output_type": "display_data",
          "data": {
            "text/plain": [
              "<Figure size 720x576 with 2 Axes>"
            ],
            "image/png": "[encoded data removed]"
          },
          "metadata": {}
        }
      ]
    },
    {
      "cell_type": "code",
      "source": [
        "X= df[['Q3B_4','Q3B_5','Q3B_6','Q3B_10']].to_numpy() #상관관꼐가 높은 4개 속성\n",
        "y = df['KK1'].to_numpy() # kk1 속성만\n",
        "print(X.shape,y.shape)"
      ],
      "metadata": {
        "colab": {
          "base_uri": "https://localhost:8080/"
        },
        "id": "-2fHv6O65Cse",
        "outputId": "356505d3-c357-49bd-c67d-78c458a935af"
      },
      "execution_count": 18,
      "outputs": [
        {
          "output_type": "stream",
          "name": "stdout",
          "text": [
            "(4886, 4) (4886,)\n"
          ]
        }
      ]
    },
    {
      "cell_type": "code",
      "source": [
        "from sklearn.model_selection import train_test_split"
      ],
      "metadata": {
        "id": "v-Ms6DYX7RUU"
      },
      "execution_count": 19,
      "outputs": []
    },
    {
      "cell_type": "code",
      "source": [
        "X_train , X_test , y_train, y_test = train_test_split(X,y,stratify=y)"
      ],
      "metadata": {
        "id": "2WlCmPz879rA"
      },
      "execution_count": 20,
      "outputs": []
    },
    {
      "cell_type": "code",
      "source": [
        "print(X_train.shape,X_test.shape,y_test.shape)"
      ],
      "metadata": {
        "colab": {
          "base_uri": "https://localhost:8080/"
        },
        "id": "Hx7dOdbH8G0w",
        "outputId": "6f42ed9e-9354-4110-bc69-cc85d3f2654c"
      },
      "execution_count": 22,
      "outputs": [
        {
          "output_type": "stream",
          "name": "stdout",
          "text": [
            "(3664, 4) (1222, 4) (1222,)\n"
          ]
        }
      ]
    },
    {
      "cell_type": "code",
      "source": [
        "from sklearn.neural_network import MLPClassifier"
      ],
      "metadata": {
        "id": "h99hPkDx8Lux"
      },
      "execution_count": 24,
      "outputs": []
    },
    {
      "cell_type": "code",
      "source": [
        "model = MLPClassifier(hidden_layer_sizes=(100,50,25),verbose=True)\n",
        "model.fit(X_train,y_train)"
      ],
      "metadata": {
        "colab": {
          "base_uri": "https://localhost:8080/"
        },
        "id": "YWZOAMTt9ML2",
        "outputId": "a4f88fbe-e2ef-4074-d950-2acc84626074"
      },
      "execution_count": 27,
      "outputs": [
        {
          "output_type": "stream",
          "name": "stdout",
          "text": [
            "Iteration 1, loss = 1.17714432\n",
            "Iteration 2, loss = 0.86840468\n",
            "Iteration 3, loss = 0.76360448\n",
            "Iteration 4, loss = 0.69997859\n",
            "Iteration 5, loss = 0.62730978\n",
            "Iteration 6, loss = 0.55921429\n",
            "Iteration 7, loss = 0.49018716\n",
            "Iteration 8, loss = 0.44026990\n",
            "Iteration 9, loss = 0.40626159\n",
            "Iteration 10, loss = 0.36952489\n",
            "Iteration 11, loss = 0.34390323\n",
            "Iteration 12, loss = 0.32531557\n",
            "Iteration 13, loss = 0.30889048\n",
            "Iteration 14, loss = 0.29191511\n",
            "Iteration 15, loss = 0.28248430\n",
            "Iteration 16, loss = 0.27090137\n",
            "Iteration 17, loss = 0.26276816\n",
            "Iteration 18, loss = 0.25709716\n",
            "Iteration 19, loss = 0.25220110\n",
            "Iteration 20, loss = 0.25382740\n",
            "Iteration 21, loss = 0.25358503\n",
            "Iteration 22, loss = 0.26021639\n",
            "Iteration 23, loss = 0.24789778\n",
            "Iteration 24, loss = 0.24425380\n",
            "Iteration 25, loss = 0.24431167\n",
            "Iteration 26, loss = 0.24624390\n",
            "Iteration 27, loss = 0.24232251\n",
            "Iteration 28, loss = 0.24405900\n",
            "Iteration 29, loss = 0.25319343\n",
            "Iteration 30, loss = 0.25321398\n",
            "Iteration 31, loss = 0.24904591\n",
            "Iteration 32, loss = 0.24554249\n",
            "Iteration 33, loss = 0.24024140\n",
            "Iteration 34, loss = 0.24035702\n",
            "Iteration 35, loss = 0.24139993\n",
            "Iteration 36, loss = 0.24273737\n",
            "Iteration 37, loss = 0.24311556\n",
            "Iteration 38, loss = 0.25874923\n",
            "Iteration 39, loss = 0.24442777\n",
            "Iteration 40, loss = 0.25753781\n",
            "Iteration 41, loss = 0.25473952\n",
            "Iteration 42, loss = 0.24654839\n",
            "Iteration 43, loss = 0.23915134\n",
            "Iteration 44, loss = 0.24320928\n",
            "Iteration 45, loss = 0.24128720\n",
            "Iteration 46, loss = 0.24242606\n",
            "Iteration 47, loss = 0.24980506\n",
            "Iteration 48, loss = 0.24737693\n",
            "Iteration 49, loss = 0.23755811\n",
            "Iteration 50, loss = 0.24159571\n",
            "Iteration 51, loss = 0.23994350\n",
            "Iteration 52, loss = 0.23812384\n",
            "Iteration 53, loss = 0.23789992\n",
            "Iteration 54, loss = 0.23902066\n",
            "Iteration 55, loss = 0.24231725\n",
            "Iteration 56, loss = 0.23783893\n",
            "Iteration 57, loss = 0.24157157\n",
            "Iteration 58, loss = 0.24536166\n",
            "Iteration 59, loss = 0.23753590\n",
            "Iteration 60, loss = 0.23769236\n",
            "Training loss did not improve more than tol=0.000100 for 10 consecutive epochs. Stopping.\n"
          ]
        },
        {
          "output_type": "execute_result",
          "data": {
            "text/plain": [
              "MLPClassifier(hidden_layer_sizes=(100, 50, 25), verbose=True)"
            ]
          },
          "metadata": {},
          "execution_count": 27
        }
      ]
    },
    {
      "cell_type": "code",
      "source": [
        "model.score(X_test,y_test)"
      ],
      "metadata": {
        "colab": {
          "base_uri": "https://localhost:8080/"
        },
        "id": "ui5cr3PP9eUa",
        "outputId": "95d541de-73b0-4298-de80-34ceffaf5e05"
      },
      "execution_count": 28,
      "outputs": [
        {
          "output_type": "execute_result",
          "data": {
            "text/plain": [
              "0.8936170212765957"
            ]
          },
          "metadata": {},
          "execution_count": 28
        }
      ]
    },
    {
      "cell_type": "code",
      "source": [
        "question = [\"스마트폰이 옆에 있으면 다른 일에 집중하기 어렵다\",\n",
        "            \"스마트폰 생각이 머리에서 떠나지 않는다\",\n",
        "            \"스마트폰을 이용하고 싶은 충동을 강하게 느낀다\",\n",
        "            \"스마트폰 때문에 학업 수행에 어려움이 있다\"]\n",
        "\n",
        "result = np.zeros(4)\n",
        "print('다음 질문에 답해주세요 1(전혀 아니다),2(아니다),3(그렇다),4(매우 그렇다)')"
      ],
      "metadata": {
        "colab": {
          "base_uri": "https://localhost:8080/"
        },
        "id": "zOY73KNjBNgY",
        "outputId": "47e8ea53-b72e-4d2a-938f-656131d822c4"
      },
      "execution_count": 29,
      "outputs": [
        {
          "output_type": "stream",
          "name": "stdout",
          "text": [
            "다음 질문에 답해주세요 1(전혀 아니다),2(아니다),3(그렇다),4(매우 그렇다)\n"
          ]
        }
      ]
    },
    {
      "cell_type": "code",
      "source": [
        "for i ,q in enumerate(question):\n",
        "  result[i] = int(input((q)))\n",
        "pred_result = model.predict([result])\n",
        "\n",
        "if pred_result == 1:\n",
        "  print('예상: 고위험군')\n",
        "elif pred_result==2:\n",
        "  print(\"예상: 잠재적 위험군\")\n",
        "else:\n",
        "  print(\"예상: 일반 사용자군\")"
      ],
      "metadata": {
        "colab": {
          "base_uri": "https://localhost:8080/"
        },
        "id": "FWPr2yveBxoW",
        "outputId": "bd9334d7-3e67-41b5-ff0a-2faaad5a9766"
      },
      "execution_count": 31,
      "outputs": [
        {
          "output_type": "stream",
          "name": "stdout",
          "text": [
            "스마트폰이 옆에 있으면 다른 일에 집중하기 어렵다1\n",
            "스마트폰 생각이 머리에서 떠나지 않는다1\n",
            "스마트폰을 이용하고 싶은 충동을 강하게 느낀다1\n",
            "스마트폰 때문에 학업 수행에 어려움이 있다32\n",
            "예상: 고위험군\n"
          ]
        }
      ]
    },
    {
      "cell_type": "code",
      "source": [
        "1\n"
      ],
      "metadata": {
        "id": "dBsZnyuoCUGh"
      },
      "execution_count": null,
      "outputs": []
    }
  ]
}